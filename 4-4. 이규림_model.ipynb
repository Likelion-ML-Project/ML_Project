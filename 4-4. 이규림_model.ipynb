{
 "cells": [
  {
   "cell_type": "markdown",
   "metadata": {},
   "source": [
    "### 데이터 불러오기"
   ]
  },
  {
   "cell_type": "code",
   "execution_count": 1,
   "metadata": {},
   "outputs": [],
   "source": [
    "import pandas as pd\n",
    "import time\n",
    "import os"
   ]
  },
  {
   "cell_type": "code",
   "execution_count": null,
   "metadata": {},
   "outputs": [],
   "source": [
    "train = pd.read_csv('./Data/train_df_errno_final.csv')\n",
    "test = pd.read_csv('./Data/test_df_final.csv')\n",
    "age = pd.read_csv('./Data/age_gender_info.csv')"
   ]
  },
  {
   "cell_type": "code",
   "execution_count": null,
   "metadata": {},
   "outputs": [],
   "source": []
  },
  {
   "cell_type": "code",
   "execution_count": null,
   "metadata": {},
   "outputs": [],
   "source": []
  },
  {
   "cell_type": "markdown",
   "metadata": {},
   "source": [
    "### 제출용 파일생성(년-월-일-시-분-초)"
   ]
  },
  {
   "cell_type": "code",
   "execution_count": null,
   "metadata": {},
   "outputs": [],
   "source": [
    "# 연월일 문자\n",
    "day = time.strftime('%Y-%m-%d-%H-%M-%S', time.localtime())\n",
    "\n",
    "PATH = './Output/'\n",
    "file_name = f'{day}_modelname.csv'\n",
    "sub_df.to_csv(f'{PATH}{file_name}', index=False)\n",
    "\n",
    "if file_name in os.listdir(PATH) :\n",
    "    print(f'{file_name} 저장 완료')\n",
    "else : \n",
    "    print(f'{file_name} 저장 실패')"
   ]
  }
 ],
 "metadata": {
  "kernelspec": {
   "display_name": "Python 3",
   "language": "python",
   "name": "python3"
  },
  "language_info": {
   "codemirror_mode": {
    "name": "ipython",
    "version": 3
   },
   "file_extension": ".py",
   "mimetype": "text/x-python",
   "name": "python",
   "nbconvert_exporter": "python",
   "pygments_lexer": "ipython3",
   "version": "3.7.3"
  }
 },
 "nbformat": 4,
 "nbformat_minor": 2
}
