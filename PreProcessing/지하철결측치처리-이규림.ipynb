{
 "cells": [
  {
   "cell_type": "code",
   "execution_count": 288,
   "metadata": {},
   "outputs": [],
   "source": [
    "import matplotlib\n",
    "from matplotlib import font_manager, rc\n",
    "import matplotlib.pyplot as plt\n",
    "import platform\n",
    "path = \"C:/Windows/Fonts/malgun.ttf\"\n",
    "if platform.system() == \"Windows\":\n",
    "    font_name = font_manager.FontProperties(fname=path).get_name()\n",
    "    rc('font', family=font_name)\n",
    "elif platform.system()==\"Darwin\":\n",
    "    rc('font', family='AppleGothic')\n",
    "else:\n",
    "    print(\"Unknown System\")\n",
    "matplotlib.rcParams['axes.unicode_minus'] = False\n",
    "%matplotlib inline"
   ]
  },
  {
   "cell_type": "code",
   "execution_count": 289,
   "metadata": {},
   "outputs": [
    {
     "data": {
      "text/plain": [
       "((2896, 23), (1008, 21), (150, 2), (16, 23))"
      ]
     },
     "execution_count": 289,
     "metadata": {},
     "output_type": "execute_result"
    }
   ],
   "source": [
    "import matplotlib.pyplot as plt\n",
    "import seaborn as sns\n",
    "from sklearn.linear_model import LinearRegression\n",
    "import pandas as pd\n",
    "\n",
    "train=pd.read_csv(\"./data/train_df_errno.csv\")\n",
    "test=pd.read_csv(\"./data/test_df.csv\")\n",
    "sub=pd.read_csv(\"./data/sample_submission.csv\")\n",
    "age=pd.read_csv(\"./data/age_gender_info.csv\")\n",
    "\n",
    "train.shape, test.shape, sub.shape, age.shape"
   ]
  },
  {
   "cell_type": "code",
   "execution_count": 290,
   "metadata": {},
   "outputs": [
    {
     "data": {
      "text/plain": [
       "Index(['단지코드', '총세대수', '임대건물구분', '지역', '공급유형', '전용면적', '전용면적별세대수', '공가수',\n",
       "       '자격유형', '임대보증금', '임대료', '10분내지하철수', '10분내버스정류장수', '단지내주차면수',\n",
       "       '단지코드_Type', '임대건물구분_lbl', '지역_lbl', '공급유형_lbl', '자격유형_lbl', '단지코드_lbl',\n",
       "       'qcut_총세대수', '등록차량수', 'log_등록차량수'],\n",
       "      dtype='object')"
      ]
     },
     "execution_count": 290,
     "metadata": {},
     "output_type": "execute_result"
    }
   ],
   "source": [
    "train.columns"
   ]
  },
  {
   "cell_type": "code",
   "execution_count": 291,
   "metadata": {},
   "outputs": [
    {
     "data": {
      "text/html": [
       "<div>\n",
       "<style scoped>\n",
       "    .dataframe tbody tr th:only-of-type {\n",
       "        vertical-align: middle;\n",
       "    }\n",
       "\n",
       "    .dataframe tbody tr th {\n",
       "        vertical-align: top;\n",
       "    }\n",
       "\n",
       "    .dataframe thead th {\n",
       "        text-align: right;\n",
       "    }\n",
       "</style>\n",
       "<table border=\"1\" class=\"dataframe\">\n",
       "  <thead>\n",
       "    <tr style=\"text-align: right;\">\n",
       "      <th></th>\n",
       "      <th>단지코드</th>\n",
       "      <th>총세대수</th>\n",
       "      <th>임대건물구분</th>\n",
       "      <th>지역</th>\n",
       "      <th>공급유형</th>\n",
       "      <th>전용면적</th>\n",
       "      <th>전용면적별세대수</th>\n",
       "      <th>공가수</th>\n",
       "      <th>자격유형</th>\n",
       "      <th>임대보증금</th>\n",
       "      <th>...</th>\n",
       "      <th>10분내지하철수</th>\n",
       "      <th>10분내버스정류장수</th>\n",
       "      <th>단지내주차면수</th>\n",
       "      <th>단지코드_Type</th>\n",
       "      <th>임대건물구분_lbl</th>\n",
       "      <th>지역_lbl</th>\n",
       "      <th>공급유형_lbl</th>\n",
       "      <th>자격유형_lbl</th>\n",
       "      <th>단지코드_lbl</th>\n",
       "      <th>qcut_총세대수</th>\n",
       "    </tr>\n",
       "  </thead>\n",
       "  <tbody>\n",
       "    <tr>\n",
       "      <th>0</th>\n",
       "      <td>C2515</td>\n",
       "      <td>545</td>\n",
       "      <td>아파트</td>\n",
       "      <td>경상남도</td>\n",
       "      <td>국민임대</td>\n",
       "      <td>33.48</td>\n",
       "      <td>276</td>\n",
       "      <td>17.0</td>\n",
       "      <td>A</td>\n",
       "      <td>9216000</td>\n",
       "      <td>...</td>\n",
       "      <td>0.0</td>\n",
       "      <td>3.0</td>\n",
       "      <td>624.0</td>\n",
       "      <td>3.0</td>\n",
       "      <td>1</td>\n",
       "      <td>1</td>\n",
       "      <td>1</td>\n",
       "      <td>1</td>\n",
       "      <td>492</td>\n",
       "      <td>1</td>\n",
       "    </tr>\n",
       "    <tr>\n",
       "      <th>1</th>\n",
       "      <td>C2515</td>\n",
       "      <td>545</td>\n",
       "      <td>아파트</td>\n",
       "      <td>경상남도</td>\n",
       "      <td>국민임대</td>\n",
       "      <td>39.60</td>\n",
       "      <td>60</td>\n",
       "      <td>17.0</td>\n",
       "      <td>A</td>\n",
       "      <td>12672000</td>\n",
       "      <td>...</td>\n",
       "      <td>0.0</td>\n",
       "      <td>3.0</td>\n",
       "      <td>624.0</td>\n",
       "      <td>3.0</td>\n",
       "      <td>1</td>\n",
       "      <td>1</td>\n",
       "      <td>1</td>\n",
       "      <td>1</td>\n",
       "      <td>492</td>\n",
       "      <td>1</td>\n",
       "    </tr>\n",
       "    <tr>\n",
       "      <th>2</th>\n",
       "      <td>C2515</td>\n",
       "      <td>545</td>\n",
       "      <td>아파트</td>\n",
       "      <td>경상남도</td>\n",
       "      <td>국민임대</td>\n",
       "      <td>39.60</td>\n",
       "      <td>20</td>\n",
       "      <td>17.0</td>\n",
       "      <td>A</td>\n",
       "      <td>12672000</td>\n",
       "      <td>...</td>\n",
       "      <td>0.0</td>\n",
       "      <td>3.0</td>\n",
       "      <td>624.0</td>\n",
       "      <td>3.0</td>\n",
       "      <td>1</td>\n",
       "      <td>1</td>\n",
       "      <td>1</td>\n",
       "      <td>1</td>\n",
       "      <td>492</td>\n",
       "      <td>1</td>\n",
       "    </tr>\n",
       "    <tr>\n",
       "      <th>3</th>\n",
       "      <td>C2515</td>\n",
       "      <td>545</td>\n",
       "      <td>아파트</td>\n",
       "      <td>경상남도</td>\n",
       "      <td>국민임대</td>\n",
       "      <td>46.90</td>\n",
       "      <td>38</td>\n",
       "      <td>17.0</td>\n",
       "      <td>A</td>\n",
       "      <td>18433000</td>\n",
       "      <td>...</td>\n",
       "      <td>0.0</td>\n",
       "      <td>3.0</td>\n",
       "      <td>624.0</td>\n",
       "      <td>3.0</td>\n",
       "      <td>1</td>\n",
       "      <td>1</td>\n",
       "      <td>1</td>\n",
       "      <td>1</td>\n",
       "      <td>492</td>\n",
       "      <td>1</td>\n",
       "    </tr>\n",
       "    <tr>\n",
       "      <th>4</th>\n",
       "      <td>C2515</td>\n",
       "      <td>545</td>\n",
       "      <td>아파트</td>\n",
       "      <td>경상남도</td>\n",
       "      <td>국민임대</td>\n",
       "      <td>46.90</td>\n",
       "      <td>19</td>\n",
       "      <td>17.0</td>\n",
       "      <td>A</td>\n",
       "      <td>18433000</td>\n",
       "      <td>...</td>\n",
       "      <td>0.0</td>\n",
       "      <td>3.0</td>\n",
       "      <td>624.0</td>\n",
       "      <td>3.0</td>\n",
       "      <td>1</td>\n",
       "      <td>1</td>\n",
       "      <td>1</td>\n",
       "      <td>1</td>\n",
       "      <td>492</td>\n",
       "      <td>1</td>\n",
       "    </tr>\n",
       "  </tbody>\n",
       "</table>\n",
       "<p>5 rows × 21 columns</p>\n",
       "</div>"
      ],
      "text/plain": [
       "    단지코드  총세대수 임대건물구분    지역  공급유형   전용면적  전용면적별세대수   공가수 자격유형     임대보증금  ...  \\\n",
       "0  C2515   545    아파트  경상남도  국민임대  33.48       276  17.0    A   9216000  ...   \n",
       "1  C2515   545    아파트  경상남도  국민임대  39.60        60  17.0    A  12672000  ...   \n",
       "2  C2515   545    아파트  경상남도  국민임대  39.60        20  17.0    A  12672000  ...   \n",
       "3  C2515   545    아파트  경상남도  국민임대  46.90        38  17.0    A  18433000  ...   \n",
       "4  C2515   545    아파트  경상남도  국민임대  46.90        19  17.0    A  18433000  ...   \n",
       "\n",
       "  10분내지하철수  10분내버스정류장수  단지내주차면수  단지코드_Type  임대건물구분_lbl  지역_lbl  공급유형_lbl  \\\n",
       "0      0.0         3.0    624.0        3.0           1       1         1   \n",
       "1      0.0         3.0    624.0        3.0           1       1         1   \n",
       "2      0.0         3.0    624.0        3.0           1       1         1   \n",
       "3      0.0         3.0    624.0        3.0           1       1         1   \n",
       "4      0.0         3.0    624.0        3.0           1       1         1   \n",
       "\n",
       "   자격유형_lbl  단지코드_lbl  qcut_총세대수  \n",
       "0         1       492          1  \n",
       "1         1       492          1  \n",
       "2         1       492          1  \n",
       "3         1       492          1  \n",
       "4         1       492          1  \n",
       "\n",
       "[5 rows x 21 columns]"
      ]
     },
     "execution_count": 291,
     "metadata": {},
     "output_type": "execute_result"
    }
   ],
   "source": [
    "all_df = pd.concat([train, test], join='inner', ignore_index=True)\n",
    "all_df.head()"
   ]
  },
  {
   "cell_type": "code",
   "execution_count": 219,
   "metadata": {},
   "outputs": [
    {
     "data": {
      "text/html": [
       "<div>\n",
       "<style scoped>\n",
       "    .dataframe tbody tr th:only-of-type {\n",
       "        vertical-align: middle;\n",
       "    }\n",
       "\n",
       "    .dataframe tbody tr th {\n",
       "        vertical-align: top;\n",
       "    }\n",
       "\n",
       "    .dataframe thead th {\n",
       "        text-align: right;\n",
       "    }\n",
       "</style>\n",
       "<table border=\"1\" class=\"dataframe\">\n",
       "  <thead>\n",
       "    <tr style=\"text-align: right;\">\n",
       "      <th></th>\n",
       "      <th>단지코드</th>\n",
       "      <th>총세대수</th>\n",
       "      <th>임대건물구분</th>\n",
       "      <th>지역</th>\n",
       "      <th>공급유형</th>\n",
       "      <th>전용면적</th>\n",
       "      <th>전용면적별세대수</th>\n",
       "      <th>공가수</th>\n",
       "      <th>자격유형</th>\n",
       "      <th>임대보증금</th>\n",
       "      <th>...</th>\n",
       "      <th>10분내지하철수</th>\n",
       "      <th>10분내버스정류장수</th>\n",
       "      <th>단지내주차면수</th>\n",
       "      <th>단지코드_Type</th>\n",
       "      <th>임대건물구분_lbl</th>\n",
       "      <th>지역_lbl</th>\n",
       "      <th>공급유형_lbl</th>\n",
       "      <th>자격유형_lbl</th>\n",
       "      <th>단지코드_lbl</th>\n",
       "      <th>qcut_총세대수</th>\n",
       "    </tr>\n",
       "  </thead>\n",
       "  <tbody>\n",
       "    <tr>\n",
       "      <th>86</th>\n",
       "      <td>C1312</td>\n",
       "      <td>518</td>\n",
       "      <td>아파트</td>\n",
       "      <td>충청남도</td>\n",
       "      <td>국민임대</td>\n",
       "      <td>39.72</td>\n",
       "      <td>60</td>\n",
       "      <td>12.0</td>\n",
       "      <td>A</td>\n",
       "      <td>17460000</td>\n",
       "      <td>...</td>\n",
       "      <td>NaN</td>\n",
       "      <td>3.0</td>\n",
       "      <td>527.0</td>\n",
       "      <td>1.0</td>\n",
       "      <td>1</td>\n",
       "      <td>7</td>\n",
       "      <td>1</td>\n",
       "      <td>1</td>\n",
       "      <td>101</td>\n",
       "      <td>1</td>\n",
       "    </tr>\n",
       "    <tr>\n",
       "      <th>87</th>\n",
       "      <td>C1312</td>\n",
       "      <td>518</td>\n",
       "      <td>아파트</td>\n",
       "      <td>충청남도</td>\n",
       "      <td>국민임대</td>\n",
       "      <td>39.98</td>\n",
       "      <td>89</td>\n",
       "      <td>12.0</td>\n",
       "      <td>A</td>\n",
       "      <td>17460000</td>\n",
       "      <td>...</td>\n",
       "      <td>NaN</td>\n",
       "      <td>3.0</td>\n",
       "      <td>527.0</td>\n",
       "      <td>1.0</td>\n",
       "      <td>1</td>\n",
       "      <td>7</td>\n",
       "      <td>1</td>\n",
       "      <td>1</td>\n",
       "      <td>101</td>\n",
       "      <td>1</td>\n",
       "    </tr>\n",
       "    <tr>\n",
       "      <th>88</th>\n",
       "      <td>C1312</td>\n",
       "      <td>518</td>\n",
       "      <td>아파트</td>\n",
       "      <td>충청남도</td>\n",
       "      <td>국민임대</td>\n",
       "      <td>41.55</td>\n",
       "      <td>225</td>\n",
       "      <td>12.0</td>\n",
       "      <td>A</td>\n",
       "      <td>19954000</td>\n",
       "      <td>...</td>\n",
       "      <td>NaN</td>\n",
       "      <td>3.0</td>\n",
       "      <td>527.0</td>\n",
       "      <td>1.0</td>\n",
       "      <td>1</td>\n",
       "      <td>7</td>\n",
       "      <td>1</td>\n",
       "      <td>1</td>\n",
       "      <td>101</td>\n",
       "      <td>1</td>\n",
       "    </tr>\n",
       "    <tr>\n",
       "      <th>89</th>\n",
       "      <td>C1312</td>\n",
       "      <td>518</td>\n",
       "      <td>아파트</td>\n",
       "      <td>충청남도</td>\n",
       "      <td>국민임대</td>\n",
       "      <td>46.90</td>\n",
       "      <td>143</td>\n",
       "      <td>12.0</td>\n",
       "      <td>A</td>\n",
       "      <td>28687000</td>\n",
       "      <td>...</td>\n",
       "      <td>NaN</td>\n",
       "      <td>3.0</td>\n",
       "      <td>527.0</td>\n",
       "      <td>1.0</td>\n",
       "      <td>1</td>\n",
       "      <td>7</td>\n",
       "      <td>1</td>\n",
       "      <td>1</td>\n",
       "      <td>101</td>\n",
       "      <td>1</td>\n",
       "    </tr>\n",
       "    <tr>\n",
       "      <th>90</th>\n",
       "      <td>C1874</td>\n",
       "      <td>619</td>\n",
       "      <td>아파트</td>\n",
       "      <td>충청남도</td>\n",
       "      <td>영구임대</td>\n",
       "      <td>26.37</td>\n",
       "      <td>294</td>\n",
       "      <td>2.0</td>\n",
       "      <td>C</td>\n",
       "      <td>3141000</td>\n",
       "      <td>...</td>\n",
       "      <td>NaN</td>\n",
       "      <td>2.0</td>\n",
       "      <td>97.0</td>\n",
       "      <td>3.0</td>\n",
       "      <td>1</td>\n",
       "      <td>7</td>\n",
       "      <td>3</td>\n",
       "      <td>3</td>\n",
       "      <td>278</td>\n",
       "      <td>1</td>\n",
       "    </tr>\n",
       "    <tr>\n",
       "      <th>...</th>\n",
       "      <td>...</td>\n",
       "      <td>...</td>\n",
       "      <td>...</td>\n",
       "      <td>...</td>\n",
       "      <td>...</td>\n",
       "      <td>...</td>\n",
       "      <td>...</td>\n",
       "      <td>...</td>\n",
       "      <td>...</td>\n",
       "      <td>...</td>\n",
       "      <td>...</td>\n",
       "      <td>...</td>\n",
       "      <td>...</td>\n",
       "      <td>...</td>\n",
       "      <td>...</td>\n",
       "      <td>...</td>\n",
       "      <td>...</td>\n",
       "      <td>...</td>\n",
       "      <td>...</td>\n",
       "      <td>...</td>\n",
       "      <td>...</td>\n",
       "    </tr>\n",
       "    <tr>\n",
       "      <th>3087</th>\n",
       "      <td>C2177</td>\n",
       "      <td>1245</td>\n",
       "      <td>상가</td>\n",
       "      <td>충청남도</td>\n",
       "      <td>임대상가</td>\n",
       "      <td>61.89</td>\n",
       "      <td>1</td>\n",
       "      <td>2.0</td>\n",
       "      <td>D</td>\n",
       "      <td>NaN</td>\n",
       "      <td>...</td>\n",
       "      <td>NaN</td>\n",
       "      <td>1.0</td>\n",
       "      <td>187.0</td>\n",
       "      <td>3.0</td>\n",
       "      <td>2</td>\n",
       "      <td>7</td>\n",
       "      <td>4</td>\n",
       "      <td>4</td>\n",
       "      <td>377</td>\n",
       "      <td>4</td>\n",
       "    </tr>\n",
       "    <tr>\n",
       "      <th>3088</th>\n",
       "      <td>C2177</td>\n",
       "      <td>1245</td>\n",
       "      <td>상가</td>\n",
       "      <td>충청남도</td>\n",
       "      <td>임대상가</td>\n",
       "      <td>401.50</td>\n",
       "      <td>1</td>\n",
       "      <td>2.0</td>\n",
       "      <td>D</td>\n",
       "      <td>NaN</td>\n",
       "      <td>...</td>\n",
       "      <td>NaN</td>\n",
       "      <td>1.0</td>\n",
       "      <td>187.0</td>\n",
       "      <td>3.0</td>\n",
       "      <td>2</td>\n",
       "      <td>7</td>\n",
       "      <td>4</td>\n",
       "      <td>4</td>\n",
       "      <td>377</td>\n",
       "      <td>4</td>\n",
       "    </tr>\n",
       "    <tr>\n",
       "      <th>3201</th>\n",
       "      <td>C1318</td>\n",
       "      <td>312</td>\n",
       "      <td>아파트</td>\n",
       "      <td>충청남도</td>\n",
       "      <td>공공임대(50년)</td>\n",
       "      <td>39.51</td>\n",
       "      <td>135</td>\n",
       "      <td>1.0</td>\n",
       "      <td>A</td>\n",
       "      <td>14440000</td>\n",
       "      <td>...</td>\n",
       "      <td>NaN</td>\n",
       "      <td>11.0</td>\n",
       "      <td>226.0</td>\n",
       "      <td>3.0</td>\n",
       "      <td>1</td>\n",
       "      <td>7</td>\n",
       "      <td>2</td>\n",
       "      <td>1</td>\n",
       "      <td>103</td>\n",
       "      <td>0</td>\n",
       "    </tr>\n",
       "    <tr>\n",
       "      <th>3202</th>\n",
       "      <td>C1318</td>\n",
       "      <td>312</td>\n",
       "      <td>아파트</td>\n",
       "      <td>충청남도</td>\n",
       "      <td>공공임대(50년)</td>\n",
       "      <td>39.72</td>\n",
       "      <td>18</td>\n",
       "      <td>1.0</td>\n",
       "      <td>A</td>\n",
       "      <td>14515000</td>\n",
       "      <td>...</td>\n",
       "      <td>NaN</td>\n",
       "      <td>11.0</td>\n",
       "      <td>226.0</td>\n",
       "      <td>3.0</td>\n",
       "      <td>1</td>\n",
       "      <td>7</td>\n",
       "      <td>2</td>\n",
       "      <td>1</td>\n",
       "      <td>103</td>\n",
       "      <td>0</td>\n",
       "    </tr>\n",
       "    <tr>\n",
       "      <th>3203</th>\n",
       "      <td>C1318</td>\n",
       "      <td>312</td>\n",
       "      <td>아파트</td>\n",
       "      <td>충청남도</td>\n",
       "      <td>공공임대(50년)</td>\n",
       "      <td>49.99</td>\n",
       "      <td>159</td>\n",
       "      <td>1.0</td>\n",
       "      <td>A</td>\n",
       "      <td>18269000</td>\n",
       "      <td>...</td>\n",
       "      <td>NaN</td>\n",
       "      <td>11.0</td>\n",
       "      <td>226.0</td>\n",
       "      <td>3.0</td>\n",
       "      <td>1</td>\n",
       "      <td>7</td>\n",
       "      <td>2</td>\n",
       "      <td>1</td>\n",
       "      <td>103</td>\n",
       "      <td>0</td>\n",
       "    </tr>\n",
       "  </tbody>\n",
       "</table>\n",
       "<p>249 rows × 21 columns</p>\n",
       "</div>"
      ],
      "text/plain": [
       "       단지코드  총세대수 임대건물구분    지역       공급유형    전용면적  전용면적별세대수   공가수 자격유형  \\\n",
       "86    C1312   518    아파트  충청남도       국민임대   39.72        60  12.0    A   \n",
       "87    C1312   518    아파트  충청남도       국민임대   39.98        89  12.0    A   \n",
       "88    C1312   518    아파트  충청남도       국민임대   41.55       225  12.0    A   \n",
       "89    C1312   518    아파트  충청남도       국민임대   46.90       143  12.0    A   \n",
       "90    C1874   619    아파트  충청남도       영구임대   26.37       294   2.0    C   \n",
       "...     ...   ...    ...   ...        ...     ...       ...   ...  ...   \n",
       "3087  C2177  1245     상가  충청남도       임대상가   61.89         1   2.0    D   \n",
       "3088  C2177  1245     상가  충청남도       임대상가  401.50         1   2.0    D   \n",
       "3201  C1318   312    아파트  충청남도  공공임대(50년)   39.51       135   1.0    A   \n",
       "3202  C1318   312    아파트  충청남도  공공임대(50년)   39.72        18   1.0    A   \n",
       "3203  C1318   312    아파트  충청남도  공공임대(50년)   49.99       159   1.0    A   \n",
       "\n",
       "         임대보증금  ... 10분내지하철수  10분내버스정류장수  단지내주차면수  단지코드_Type  임대건물구분_lbl  \\\n",
       "86    17460000  ...      NaN         3.0    527.0        1.0           1   \n",
       "87    17460000  ...      NaN         3.0    527.0        1.0           1   \n",
       "88    19954000  ...      NaN         3.0    527.0        1.0           1   \n",
       "89    28687000  ...      NaN         3.0    527.0        1.0           1   \n",
       "90     3141000  ...      NaN         2.0     97.0        3.0           1   \n",
       "...        ...  ...      ...         ...      ...        ...         ...   \n",
       "3087       NaN  ...      NaN         1.0    187.0        3.0           2   \n",
       "3088       NaN  ...      NaN         1.0    187.0        3.0           2   \n",
       "3201  14440000  ...      NaN        11.0    226.0        3.0           1   \n",
       "3202  14515000  ...      NaN        11.0    226.0        3.0           1   \n",
       "3203  18269000  ...      NaN        11.0    226.0        3.0           1   \n",
       "\n",
       "      지역_lbl  공급유형_lbl  자격유형_lbl  단지코드_lbl  qcut_총세대수  \n",
       "86         7         1         1       101          1  \n",
       "87         7         1         1       101          1  \n",
       "88         7         1         1       101          1  \n",
       "89         7         1         1       101          1  \n",
       "90         7         3         3       278          1  \n",
       "...      ...       ...       ...       ...        ...  \n",
       "3087       7         4         4       377          4  \n",
       "3088       7         4         4       377          4  \n",
       "3201       7         2         1       103          0  \n",
       "3202       7         2         1       103          0  \n",
       "3203       7         2         1       103          0  \n",
       "\n",
       "[249 rows x 21 columns]"
      ]
     },
     "execution_count": 219,
     "metadata": {},
     "output_type": "execute_result"
    }
   ],
   "source": [
    "all_df.loc[ all_df['10분내지하철수'].isnull(), :]"
   ]
  },
  {
   "cell_type": "markdown",
   "metadata": {},
   "source": [
    "### 지하철 결측치 처리"
   ]
  },
  {
   "cell_type": "code",
   "execution_count": 292,
   "metadata": {},
   "outputs": [
    {
     "data": {
      "text/plain": [
       "249"
      ]
     },
     "execution_count": 292,
     "metadata": {},
     "output_type": "execute_result"
    }
   ],
   "source": [
    "all_df['10분내지하철수'].isnull().sum()"
   ]
  },
  {
   "cell_type": "markdown",
   "metadata": {},
   "source": [
    "# 결측치 반올림 처리"
   ]
  },
  {
   "cell_type": "code",
   "execution_count": 293,
   "metadata": {},
   "outputs": [
    {
     "name": "stderr",
     "output_type": "stream",
     "text": [
      "C:\\ProgramData\\Anaconda3\\lib\\site-packages\\pandas\\core\\series.py:4517: SettingWithCopyWarning: \n",
      "A value is trying to be set on a copy of a slice from a DataFrame\n",
      "\n",
      "See the caveats in the documentation: https://pandas.pydata.org/pandas-docs/stable/user_guide/indexing.html#returning-a-view-versus-a-copy\n",
      "  return super().fillna(\n"
     ]
    }
   ],
   "source": [
    "list =[('아파트', '충청남도', '국민임대'),('아파트', '충청남도', '영구임대'), ('아파트', '대전광역시', '국민임대'),\n",
    "       ('아파트', '대전광역시', '영구임대'),('아파트', '대전광역시','공공임대(10년)'),\n",
    "    ('아파트', '대전광역시', '공공임대(분납)'),('상가', '대전광역시', '임대상가'),('아파트', '경상남도', '공공임대(10년)')]\n",
    "for i in list : \n",
    "    grouped = all_df.groupby([ '임대건물구분', '지역','공급유형'])\n",
    "    group1 = grouped.get_group(i)\n",
    "    group1['10분내지하철수'].mean()\n",
    "    group1['10분내지하철수'].fillna(round(group1['10분내지하철수'].mean()), inplace=True)\n",
    "    all_df.loc[group1.index, '10분내지하철수'] = group1['10분내지하철수']"
   ]
  },
  {
   "cell_type": "code",
   "execution_count": 294,
   "metadata": {},
   "outputs": [],
   "source": [
    "grouped = all_df.groupby([ '임대건물구분', '지역','공급유형'])\n",
    "grouped1 = all_df.groupby([ '임대건물구분', '지역'])\n",
    "grouped2 = all_df.groupby([ '지역'])\n",
    "\n",
    "group1 = grouped1.get_group(('아파트', '충청남도'))\n",
    "group2 = grouped1.get_group(('아파트', '대전광역시'))\n",
    "\n",
    "group3 = grouped.get_group( ('아파트', '충청남도', '공공임대(50년)')  )\n",
    "group4 = grouped.get_group( ('아파트', '대전광역시', '공공임대(50년)')  ) \n",
    "group5 = grouped.get_group( ('아파트', '대전광역시', '공공분양')  )\n",
    "\n",
    "group6 = grouped2.get_group(('충청남도' ))\n",
    "group7 = grouped.get_group( ('상가', '충청남도', '임대상가')  )\n",
    "\n",
    "group3['10분내지하철수'].fillna(round(group1['10분내지하철수'].mean()), inplace=True)\n",
    "all_df.loc[group3.index, '10분내지하철수'] = group3['10분내지하철수']\n",
    "\n",
    "group4['10분내지하철수'].fillna(round(group2['10분내지하철수'].mean()), inplace=True)\n",
    "all_df.loc[group4.index, '10분내지하철수'] = group4['10분내지하철수']\n",
    "\n",
    "group5['10분내지하철수'].fillna(round(group2['10분내지하철수'].mean()), inplace=True)\n",
    "all_df.loc[group5.index, '10분내지하철수'] = group5['10분내지하철수']\n",
    "\n",
    "group7['10분내지하철수'].fillna(round(group6['10분내지하철수'].mean()), inplace=True)\n",
    "all_df.loc[group7.index, '10분내지하철수'] = group7['10분내지하철수']"
   ]
  },
  {
   "cell_type": "code",
   "execution_count": 295,
   "metadata": {},
   "outputs": [
    {
     "data": {
      "text/plain": [
       "0"
      ]
     },
     "execution_count": 295,
     "metadata": {},
     "output_type": "execute_result"
    }
   ],
   "source": [
    "all_df['10분내지하철수'].isnull().sum()"
   ]
  },
  {
   "cell_type": "markdown",
   "metadata": {},
   "source": [
    "# 측정"
   ]
  },
  {
   "cell_type": "code",
   "execution_count": 298,
   "metadata": {},
   "outputs": [
    {
     "data": {
      "text/plain": [
       "((2896, 23), (1008, 21))"
      ]
     },
     "execution_count": 298,
     "metadata": {},
     "output_type": "execute_result"
    }
   ],
   "source": [
    "train.shape, test.shape"
   ]
  },
  {
   "cell_type": "code",
   "execution_count": 299,
   "metadata": {},
   "outputs": [
    {
     "data": {
      "text/plain": [
       "((2896, 22), (1008, 22))"
      ]
     },
     "execution_count": 299,
     "metadata": {},
     "output_type": "execute_result"
    }
   ],
   "source": [
    "train_df = all_df.iloc[0:2896,:]\n",
    "test_df = all_df.iloc[2896:,:]\n",
    "\n",
    "train_df.shape, test_df.shape"
   ]
  },
  {
   "cell_type": "code",
   "execution_count": 300,
   "metadata": {},
   "outputs": [
    {
     "data": {
      "text/plain": [
       "(2896, 24)"
      ]
     },
     "execution_count": 300,
     "metadata": {},
     "output_type": "execute_result"
    }
   ],
   "source": [
    "train_df= pd.concat([train_df, train[['등록차량수', 'log_등록차량수']] ], axis=1)\n",
    "train_df.shape"
   ]
  },
  {
   "cell_type": "code",
   "execution_count": 307,
   "metadata": {},
   "outputs": [
    {
     "name": "stdout",
     "output_type": "stream",
     "text": [
      "<class 'pandas.core.frame.DataFrame'>\n",
      "RangeIndex: 2896 entries, 0 to 2895\n",
      "Data columns (total 24 columns):\n",
      " #   Column      Non-Null Count  Dtype  \n",
      "---  ------      --------------  -----  \n",
      " 0   단지코드        2896 non-null   object \n",
      " 1   총세대수        2896 non-null   int64  \n",
      " 2   임대건물구분      2896 non-null   object \n",
      " 3   지역          2896 non-null   object \n",
      " 4   공급유형        2896 non-null   object \n",
      " 5   전용면적        2896 non-null   float64\n",
      " 6   전용면적별세대수    2896 non-null   int64  \n",
      " 7   공가수         2896 non-null   float64\n",
      " 8   자격유형        2896 non-null   object \n",
      " 9   임대보증금       2327 non-null   object \n",
      " 10  임대료         2327 non-null   object \n",
      " 11  10분내지하철수    2896 non-null   float64\n",
      " 12  10분내버스정류장수  2896 non-null   float64\n",
      " 13  단지내주차면수     2896 non-null   float64\n",
      " 14  단지코드_Type   2896 non-null   float64\n",
      " 15  임대건물구분_lbl  2896 non-null   int64  \n",
      " 16  지역_lbl      2896 non-null   int64  \n",
      " 17  공급유형_lbl    2896 non-null   int64  \n",
      " 18  자격유형_lbl    2896 non-null   int64  \n",
      " 19  단지코드_lbl    2896 non-null   int64  \n",
      " 20  qcut_총세대수   2896 non-null   int64  \n",
      " 21  교통편의성       2896 non-null   float64\n",
      " 22  등록차량수       2896 non-null   float64\n",
      " 23  log_등록차량수   2896 non-null   float64\n",
      "dtypes: float64(9), int64(8), object(7)\n",
      "memory usage: 543.1+ KB\n"
     ]
    }
   ],
   "source": [
    "train_df.info()"
   ]
  },
  {
   "cell_type": "code",
   "execution_count": 315,
   "metadata": {},
   "outputs": [],
   "source": [
    "from sklearn.model_selection import train_test_split\n",
    "\n",
    "sel = [ '총세대수', '전용면적', '공가수', '단지내주차면수','qcut_총세대수', '자격유형_lbl', '전용면적별세대수',\n",
    "       '10분내버스정류장수', '10분내지하철수', '임대건물구분_lbl', '공급유형_lbl', '지역_lbl', '단지코드_lbl','단지코드_Type']\n",
    "\n",
    "X = train_df[sel]\n",
    "y = train_df['log_등록차량수']\n",
    "test_X = test_df[sel]\n",
    "\n",
    "X_train, X_test, y_train, y_test = train_test_split(X, y, \n",
    "                                                    test_size=0.1, \n",
    "                                                    random_state=0)"
   ]
  },
  {
   "cell_type": "code",
   "execution_count": 311,
   "metadata": {},
   "outputs": [
    {
     "data": {
      "text/plain": [
       "((2606, 14), (290, 14), (2606,), (290,))"
      ]
     },
     "execution_count": 311,
     "metadata": {},
     "output_type": "execute_result"
    }
   ],
   "source": [
    "X_train.shape, X_test.shape, y_train.shape, y_test.shape"
   ]
  },
  {
   "cell_type": "code",
   "execution_count": 214,
   "metadata": {},
   "outputs": [
    {
     "name": "stdout",
     "output_type": "stream",
     "text": [
      "2309    7.747597\n",
      "1323    6.013715\n",
      "22      6.594413\n",
      "1005    6.391917\n",
      "248     4.691348\n",
      "          ...   \n",
      "1985    6.340359\n",
      "2052    5.117994\n",
      "2158    6.023448\n",
      "995     6.047372\n",
      "838     6.909753\n",
      "Name: log_등록차량수, Length: 290, dtype: float64\n"
     ]
    }
   ],
   "source": [
    "print(y_test)"
   ]
  },
  {
   "cell_type": "code",
   "execution_count": 302,
   "metadata": {},
   "outputs": [],
   "source": [
    "import numpy as np\n",
    "from sklearn.model_selection import cross_val_score\n",
    "from sklearn.ensemble import RandomForestRegressor\n",
    "from sklearn.ensemble import GradientBoostingRegressor"
   ]
  },
  {
   "cell_type": "code",
   "execution_count": 202,
   "metadata": {},
   "outputs": [
    {
     "name": "stdout",
     "output_type": "stream",
     "text": [
      "학습(score) : 0.9985684129955437\n",
      "테스트(score) : 0.9980425992019613\n",
      "mae : 0.01810732395989074\n"
     ]
    }
   ],
   "source": [
    "model = RandomForestRegressor()\n",
    "model.fit(X_train, y_train)\n",
    "pred = model.predict(X_test)\n",
    "\n",
    "print(\"학습(score) :\", model.score(X_train, y_train) ) \n",
    "print(\"테스트(score) :\", model.score(X_test, y_test) ) \n",
    "print(\"mae :\", np.mean(abs(y_test - pred) ) )"
   ]
  },
  {
   "cell_type": "code",
   "execution_count": 182,
   "metadata": {},
   "outputs": [
    {
     "name": "stdout",
     "output_type": "stream",
     "text": [
      "학습(score) : 0.9574654947211587\n",
      "테스트(score) : 0.9513080365586306\n",
      "mae : 69.56778875722011\n"
     ]
    }
   ],
   "source": [
    "model = GradientBoostingRegressor()\n",
    "model.fit(X_train, y_train)\n",
    "pred = model.predict(X_test)\n",
    "\n",
    "print(\"학습(score) :\", model.score(X_train, y_train) ) \n",
    "print(\"테스트(score) :\", model.score(X_test, y_test) ) \n",
    "print(\"mae :\", np.mean(abs(y_test - pred) ) )"
   ]
  },
  {
   "cell_type": "code",
   "execution_count": 140,
   "metadata": {},
   "outputs": [
    {
     "name": "stderr",
     "output_type": "stream",
     "text": [
      "C:\\ProgramData\\Anaconda3\\lib\\site-packages\\sklearn\\model_selection\\_validation.py:548: FitFailedWarning: Estimator fit failed. The score on this train-test partition for these parameters will be set to nan. Details: \n",
      "Traceback (most recent call last):\n",
      "  File \"C:\\ProgramData\\Anaconda3\\lib\\site-packages\\sklearn\\model_selection\\_validation.py\", line 531, in _fit_and_score\n",
      "    estimator.fit(X_train, y_train, **fit_params)\n",
      "  File \"C:\\ProgramData\\Anaconda3\\lib\\site-packages\\sklearn\\ensemble\\_forest.py\", line 386, in fit\n",
      "    trees = Parallel(n_jobs=self.n_jobs, verbose=self.verbose,\n",
      "  File \"C:\\ProgramData\\Anaconda3\\lib\\site-packages\\joblib\\parallel.py\", line 973, in __call__\n",
      "    n_jobs = self._initialize_backend()\n",
      "  File \"C:\\ProgramData\\Anaconda3\\lib\\site-packages\\joblib\\parallel.py\", line 740, in _initialize_backend\n",
      "    n_jobs = self._backend.configure(n_jobs=self.n_jobs, parallel=self,\n",
      "  File \"C:\\ProgramData\\Anaconda3\\lib\\site-packages\\joblib\\_parallel_backends.py\", line 494, in configure\n",
      "    self._workers = get_memmapping_executor(\n",
      "  File \"C:\\ProgramData\\Anaconda3\\lib\\site-packages\\joblib\\executor.py\", line 20, in get_memmapping_executor\n",
      "    return MemmappingExecutor.get_memmapping_executor(n_jobs, **kwargs)\n",
      "  File \"C:\\ProgramData\\Anaconda3\\lib\\site-packages\\joblib\\executor.py\", line 42, in get_memmapping_executor\n",
      "    manager = TemporaryResourcesManager(temp_folder)\n",
      "  File \"C:\\ProgramData\\Anaconda3\\lib\\site-packages\\joblib\\_memmapping_reducer.py\", line 531, in __init__\n",
      "    self.set_current_context(context_id)\n",
      "  File \"C:\\ProgramData\\Anaconda3\\lib\\site-packages\\joblib\\_memmapping_reducer.py\", line 535, in set_current_context\n",
      "    self.register_new_context(context_id)\n",
      "  File \"C:\\ProgramData\\Anaconda3\\lib\\site-packages\\joblib\\_memmapping_reducer.py\", line 560, in register_new_context\n",
      "    self.register_folder_finalizer(new_folder_path, context_id)\n",
      "  File \"C:\\ProgramData\\Anaconda3\\lib\\site-packages\\joblib\\_memmapping_reducer.py\", line 590, in register_folder_finalizer\n",
      "    resource_tracker.register(pool_subfolder, \"folder\")\n",
      "  File \"C:\\ProgramData\\Anaconda3\\lib\\site-packages\\joblib\\externals\\loky\\backend\\resource_tracker.py\", line 191, in register\n",
      "    self._send('REGISTER', name, rtype)\n",
      "  File \"C:\\ProgramData\\Anaconda3\\lib\\site-packages\\joblib\\externals\\loky\\backend\\resource_tracker.py\", line 204, in _send\n",
      "    msg = '{0}:{1}:{2}\\n'.format(cmd, name, rtype).encode('ascii')\n",
      "UnicodeEncodeError: 'ascii' codec can't encode characters in position 18-20: ordinal not in range(128)\n",
      "\n",
      "  warnings.warn(\"Estimator fit failed. The score on this train-test\"\n",
      "C:\\ProgramData\\Anaconda3\\lib\\site-packages\\sklearn\\model_selection\\_validation.py:548: FitFailedWarning: Estimator fit failed. The score on this train-test partition for these parameters will be set to nan. Details: \n",
      "Traceback (most recent call last):\n",
      "  File \"C:\\ProgramData\\Anaconda3\\lib\\site-packages\\sklearn\\model_selection\\_validation.py\", line 531, in _fit_and_score\n",
      "    estimator.fit(X_train, y_train, **fit_params)\n",
      "  File \"C:\\ProgramData\\Anaconda3\\lib\\site-packages\\sklearn\\ensemble\\_forest.py\", line 386, in fit\n",
      "    trees = Parallel(n_jobs=self.n_jobs, verbose=self.verbose,\n",
      "  File \"C:\\ProgramData\\Anaconda3\\lib\\site-packages\\joblib\\parallel.py\", line 973, in __call__\n",
      "    n_jobs = self._initialize_backend()\n",
      "  File \"C:\\ProgramData\\Anaconda3\\lib\\site-packages\\joblib\\parallel.py\", line 740, in _initialize_backend\n",
      "    n_jobs = self._backend.configure(n_jobs=self.n_jobs, parallel=self,\n",
      "  File \"C:\\ProgramData\\Anaconda3\\lib\\site-packages\\joblib\\_parallel_backends.py\", line 494, in configure\n",
      "    self._workers = get_memmapping_executor(\n",
      "  File \"C:\\ProgramData\\Anaconda3\\lib\\site-packages\\joblib\\executor.py\", line 20, in get_memmapping_executor\n",
      "    return MemmappingExecutor.get_memmapping_executor(n_jobs, **kwargs)\n",
      "  File \"C:\\ProgramData\\Anaconda3\\lib\\site-packages\\joblib\\executor.py\", line 42, in get_memmapping_executor\n",
      "    manager = TemporaryResourcesManager(temp_folder)\n",
      "  File \"C:\\ProgramData\\Anaconda3\\lib\\site-packages\\joblib\\_memmapping_reducer.py\", line 531, in __init__\n",
      "    self.set_current_context(context_id)\n",
      "  File \"C:\\ProgramData\\Anaconda3\\lib\\site-packages\\joblib\\_memmapping_reducer.py\", line 535, in set_current_context\n",
      "    self.register_new_context(context_id)\n",
      "  File \"C:\\ProgramData\\Anaconda3\\lib\\site-packages\\joblib\\_memmapping_reducer.py\", line 560, in register_new_context\n",
      "    self.register_folder_finalizer(new_folder_path, context_id)\n",
      "  File \"C:\\ProgramData\\Anaconda3\\lib\\site-packages\\joblib\\_memmapping_reducer.py\", line 590, in register_folder_finalizer\n",
      "    resource_tracker.register(pool_subfolder, \"folder\")\n",
      "  File \"C:\\ProgramData\\Anaconda3\\lib\\site-packages\\joblib\\externals\\loky\\backend\\resource_tracker.py\", line 191, in register\n",
      "    self._send('REGISTER', name, rtype)\n",
      "  File \"C:\\ProgramData\\Anaconda3\\lib\\site-packages\\joblib\\externals\\loky\\backend\\resource_tracker.py\", line 204, in _send\n",
      "    msg = '{0}:{1}:{2}\\n'.format(cmd, name, rtype).encode('ascii')\n",
      "UnicodeEncodeError: 'ascii' codec can't encode characters in position 18-20: ordinal not in range(128)\n",
      "\n",
      "  warnings.warn(\"Estimator fit failed. The score on this train-test\"\n",
      "C:\\ProgramData\\Anaconda3\\lib\\site-packages\\sklearn\\model_selection\\_validation.py:548: FitFailedWarning: Estimator fit failed. The score on this train-test partition for these parameters will be set to nan. Details: \n",
      "Traceback (most recent call last):\n",
      "  File \"C:\\ProgramData\\Anaconda3\\lib\\site-packages\\sklearn\\model_selection\\_validation.py\", line 531, in _fit_and_score\n",
      "    estimator.fit(X_train, y_train, **fit_params)\n",
      "  File \"C:\\ProgramData\\Anaconda3\\lib\\site-packages\\sklearn\\ensemble\\_forest.py\", line 386, in fit\n",
      "    trees = Parallel(n_jobs=self.n_jobs, verbose=self.verbose,\n",
      "  File \"C:\\ProgramData\\Anaconda3\\lib\\site-packages\\joblib\\parallel.py\", line 973, in __call__\n",
      "    n_jobs = self._initialize_backend()\n",
      "  File \"C:\\ProgramData\\Anaconda3\\lib\\site-packages\\joblib\\parallel.py\", line 740, in _initialize_backend\n",
      "    n_jobs = self._backend.configure(n_jobs=self.n_jobs, parallel=self,\n",
      "  File \"C:\\ProgramData\\Anaconda3\\lib\\site-packages\\joblib\\_parallel_backends.py\", line 494, in configure\n",
      "    self._workers = get_memmapping_executor(\n",
      "  File \"C:\\ProgramData\\Anaconda3\\lib\\site-packages\\joblib\\executor.py\", line 20, in get_memmapping_executor\n",
      "    return MemmappingExecutor.get_memmapping_executor(n_jobs, **kwargs)\n",
      "  File \"C:\\ProgramData\\Anaconda3\\lib\\site-packages\\joblib\\executor.py\", line 42, in get_memmapping_executor\n",
      "    manager = TemporaryResourcesManager(temp_folder)\n",
      "  File \"C:\\ProgramData\\Anaconda3\\lib\\site-packages\\joblib\\_memmapping_reducer.py\", line 531, in __init__\n",
      "    self.set_current_context(context_id)\n",
      "  File \"C:\\ProgramData\\Anaconda3\\lib\\site-packages\\joblib\\_memmapping_reducer.py\", line 535, in set_current_context\n",
      "    self.register_new_context(context_id)\n",
      "  File \"C:\\ProgramData\\Anaconda3\\lib\\site-packages\\joblib\\_memmapping_reducer.py\", line 560, in register_new_context\n",
      "    self.register_folder_finalizer(new_folder_path, context_id)\n",
      "  File \"C:\\ProgramData\\Anaconda3\\lib\\site-packages\\joblib\\_memmapping_reducer.py\", line 590, in register_folder_finalizer\n",
      "    resource_tracker.register(pool_subfolder, \"folder\")\n",
      "  File \"C:\\ProgramData\\Anaconda3\\lib\\site-packages\\joblib\\externals\\loky\\backend\\resource_tracker.py\", line 191, in register\n",
      "    self._send('REGISTER', name, rtype)\n",
      "  File \"C:\\ProgramData\\Anaconda3\\lib\\site-packages\\joblib\\externals\\loky\\backend\\resource_tracker.py\", line 204, in _send\n",
      "    msg = '{0}:{1}:{2}\\n'.format(cmd, name, rtype).encode('ascii')\n",
      "UnicodeEncodeError: 'ascii' codec can't encode characters in position 18-20: ordinal not in range(128)\n",
      "\n",
      "  warnings.warn(\"Estimator fit failed. The score on this train-test\"\n",
      "C:\\ProgramData\\Anaconda3\\lib\\site-packages\\sklearn\\model_selection\\_validation.py:548: FitFailedWarning: Estimator fit failed. The score on this train-test partition for these parameters will be set to nan. Details: \n",
      "Traceback (most recent call last):\n",
      "  File \"C:\\ProgramData\\Anaconda3\\lib\\site-packages\\sklearn\\model_selection\\_validation.py\", line 531, in _fit_and_score\n",
      "    estimator.fit(X_train, y_train, **fit_params)\n",
      "  File \"C:\\ProgramData\\Anaconda3\\lib\\site-packages\\sklearn\\ensemble\\_forest.py\", line 386, in fit\n",
      "    trees = Parallel(n_jobs=self.n_jobs, verbose=self.verbose,\n",
      "  File \"C:\\ProgramData\\Anaconda3\\lib\\site-packages\\joblib\\parallel.py\", line 973, in __call__\n",
      "    n_jobs = self._initialize_backend()\n",
      "  File \"C:\\ProgramData\\Anaconda3\\lib\\site-packages\\joblib\\parallel.py\", line 740, in _initialize_backend\n",
      "    n_jobs = self._backend.configure(n_jobs=self.n_jobs, parallel=self,\n",
      "  File \"C:\\ProgramData\\Anaconda3\\lib\\site-packages\\joblib\\_parallel_backends.py\", line 494, in configure\n",
      "    self._workers = get_memmapping_executor(\n",
      "  File \"C:\\ProgramData\\Anaconda3\\lib\\site-packages\\joblib\\executor.py\", line 20, in get_memmapping_executor\n",
      "    return MemmappingExecutor.get_memmapping_executor(n_jobs, **kwargs)\n",
      "  File \"C:\\ProgramData\\Anaconda3\\lib\\site-packages\\joblib\\executor.py\", line 42, in get_memmapping_executor\n",
      "    manager = TemporaryResourcesManager(temp_folder)\n",
      "  File \"C:\\ProgramData\\Anaconda3\\lib\\site-packages\\joblib\\_memmapping_reducer.py\", line 531, in __init__\n",
      "    self.set_current_context(context_id)\n",
      "  File \"C:\\ProgramData\\Anaconda3\\lib\\site-packages\\joblib\\_memmapping_reducer.py\", line 535, in set_current_context\n",
      "    self.register_new_context(context_id)\n",
      "  File \"C:\\ProgramData\\Anaconda3\\lib\\site-packages\\joblib\\_memmapping_reducer.py\", line 560, in register_new_context\n",
      "    self.register_folder_finalizer(new_folder_path, context_id)\n",
      "  File \"C:\\ProgramData\\Anaconda3\\lib\\site-packages\\joblib\\_memmapping_reducer.py\", line 590, in register_folder_finalizer\n",
      "    resource_tracker.register(pool_subfolder, \"folder\")\n",
      "  File \"C:\\ProgramData\\Anaconda3\\lib\\site-packages\\joblib\\externals\\loky\\backend\\resource_tracker.py\", line 191, in register\n",
      "    self._send('REGISTER', name, rtype)\n",
      "  File \"C:\\ProgramData\\Anaconda3\\lib\\site-packages\\joblib\\externals\\loky\\backend\\resource_tracker.py\", line 204, in _send\n",
      "    msg = '{0}:{1}:{2}\\n'.format(cmd, name, rtype).encode('ascii')\n",
      "UnicodeEncodeError: 'ascii' codec can't encode characters in position 18-20: ordinal not in range(128)\n",
      "\n",
      "  warnings.warn(\"Estimator fit failed. The score on this train-test\"\n"
     ]
    },
    {
     "name": "stdout",
     "output_type": "stream",
     "text": [
      "RandomForestRegressor Score : nan\n",
      "11.3689706325531\n"
     ]
    },
    {
     "name": "stderr",
     "output_type": "stream",
     "text": [
      "C:\\ProgramData\\Anaconda3\\lib\\site-packages\\sklearn\\model_selection\\_validation.py:548: FitFailedWarning: Estimator fit failed. The score on this train-test partition for these parameters will be set to nan. Details: \n",
      "Traceback (most recent call last):\n",
      "  File \"C:\\ProgramData\\Anaconda3\\lib\\site-packages\\sklearn\\model_selection\\_validation.py\", line 531, in _fit_and_score\n",
      "    estimator.fit(X_train, y_train, **fit_params)\n",
      "  File \"C:\\ProgramData\\Anaconda3\\lib\\site-packages\\sklearn\\ensemble\\_forest.py\", line 386, in fit\n",
      "    trees = Parallel(n_jobs=self.n_jobs, verbose=self.verbose,\n",
      "  File \"C:\\ProgramData\\Anaconda3\\lib\\site-packages\\joblib\\parallel.py\", line 973, in __call__\n",
      "    n_jobs = self._initialize_backend()\n",
      "  File \"C:\\ProgramData\\Anaconda3\\lib\\site-packages\\joblib\\parallel.py\", line 740, in _initialize_backend\n",
      "    n_jobs = self._backend.configure(n_jobs=self.n_jobs, parallel=self,\n",
      "  File \"C:\\ProgramData\\Anaconda3\\lib\\site-packages\\joblib\\_parallel_backends.py\", line 494, in configure\n",
      "    self._workers = get_memmapping_executor(\n",
      "  File \"C:\\ProgramData\\Anaconda3\\lib\\site-packages\\joblib\\executor.py\", line 20, in get_memmapping_executor\n",
      "    return MemmappingExecutor.get_memmapping_executor(n_jobs, **kwargs)\n",
      "  File \"C:\\ProgramData\\Anaconda3\\lib\\site-packages\\joblib\\executor.py\", line 42, in get_memmapping_executor\n",
      "    manager = TemporaryResourcesManager(temp_folder)\n",
      "  File \"C:\\ProgramData\\Anaconda3\\lib\\site-packages\\joblib\\_memmapping_reducer.py\", line 531, in __init__\n",
      "    self.set_current_context(context_id)\n",
      "  File \"C:\\ProgramData\\Anaconda3\\lib\\site-packages\\joblib\\_memmapping_reducer.py\", line 535, in set_current_context\n",
      "    self.register_new_context(context_id)\n",
      "  File \"C:\\ProgramData\\Anaconda3\\lib\\site-packages\\joblib\\_memmapping_reducer.py\", line 560, in register_new_context\n",
      "    self.register_folder_finalizer(new_folder_path, context_id)\n",
      "  File \"C:\\ProgramData\\Anaconda3\\lib\\site-packages\\joblib\\_memmapping_reducer.py\", line 590, in register_folder_finalizer\n",
      "    resource_tracker.register(pool_subfolder, \"folder\")\n",
      "  File \"C:\\ProgramData\\Anaconda3\\lib\\site-packages\\joblib\\externals\\loky\\backend\\resource_tracker.py\", line 191, in register\n",
      "    self._send('REGISTER', name, rtype)\n",
      "  File \"C:\\ProgramData\\Anaconda3\\lib\\site-packages\\joblib\\externals\\loky\\backend\\resource_tracker.py\", line 204, in _send\n",
      "    msg = '{0}:{1}:{2}\\n'.format(cmd, name, rtype).encode('ascii')\n",
      "UnicodeEncodeError: 'ascii' codec can't encode characters in position 18-20: ordinal not in range(128)\n",
      "\n",
      "  warnings.warn(\"Estimator fit failed. The score on this train-test\"\n"
     ]
    }
   ],
   "source": [
    "now_time = time.time()\n",
    "model_RF = RandomForestRegressor(n_estimators = 1000,\n",
    "                                 random_state=0, n_jobs=-1)\n",
    "model_RF.fit(X_train, y_train)\n",
    "score = cross_val_score(model_RF, X_train, y_train,\n",
    "                        cv=5, scoring=\"neg_mean_absolute_error\") # neg_mean_squared_error\n",
    "m_score = np.abs(score.mean())\n",
    "print(\"RandomForestRegressor Score : {}\".format(m_score))  # 점수\n",
    "pro_time = time.time() - now_time\n",
    "print(pro_time)  # 걸린 시간\n",
    "\n",
    "print(\"학습(score) :\", model.score(X_train, y_train) ) \n",
    "print(\"테스트(score) :\", model.score(X_test, y_test) ) \n",
    "print(\"mae :\", np.mean(abs(y_test - pred) ) )"
   ]
  },
  {
   "cell_type": "code",
   "execution_count": 183,
   "metadata": {},
   "outputs": [
    {
     "name": "stdout",
     "output_type": "stream",
     "text": [
      "GradientBoostingRegressor : 22.51161967940296\n",
      "20.933284759521484\n",
      "학습(score) : 0.9984771782033143\n",
      "테스트(score) : 0.9968888614658977\n",
      "mae : 69.56778875722011\n"
     ]
    }
   ],
   "source": [
    "now_time = time.time()\n",
    "model = GradientBoostingRegressor(n_estimators = 1000,\n",
    "                                 random_state=0)\n",
    "model.fit(X_train, y_train)\n",
    "score = cross_val_score(model, X_train, y_train,\n",
    "                        cv=5, scoring=\"neg_mean_absolute_error\") # neg_mean_squared_error\n",
    "m_score = np.abs(score.mean())\n",
    "print(\"GradientBoostingRegressor : {}\".format(m_score))  # 점수\n",
    "pro_time = time.time() - now_time\n",
    "print(pro_time)  # 걸린 시간\n",
    "\n",
    "print(\"학습(score) :\", model.score(X_train, y_train) ) \n",
    "print(\"테스트(score) :\", model.score(X_test, y_test) ) \n",
    "print(\"mae :\", np.mean(abs(y_test - pred) ) )"
   ]
  },
  {
   "cell_type": "markdown",
   "metadata": {},
   "source": [
    "### 최종"
   ]
  },
  {
   "cell_type": "code",
   "execution_count": 303,
   "metadata": {},
   "outputs": [],
   "source": [
    "import time"
   ]
  },
  {
   "cell_type": "code",
   "execution_count": 312,
   "metadata": {},
   "outputs": [],
   "source": [
    "hyperparameters = {'boosting_type': 'gbdt',\n",
    "                   'colsample_bytree': 0.7,\n",
    "                   'is_unbalance': False,\n",
    "                   'learning_rate': 0.02,\n",
    "                   'min_child_samples': 20,\n",
    "                   'num_leaves': 56,\n",
    "                   'subsample': 0.5233384321711397,\n",
    "                   'n_estimators': 2000}"
   ]
  },
  {
   "cell_type": "code",
   "execution_count": 316,
   "metadata": {},
   "outputs": [
    {
     "name": "stdout",
     "output_type": "stream",
     "text": [
      "38.138429164886475\n",
      "LightGBM Score : 0.034272197377368266\n"
     ]
    }
   ],
   "source": [
    "import lightgbm as lgb\n",
    "now_time = time.time()\n",
    "m_lgbm1 = lgb.LGBMRegressor(**hyperparameters)  # learning rate 변경 가능\n",
    "m_lgbm1.fit(X_train, y_train)\n",
    "score = cross_val_score(m_lgbm1, X_train, y_train,\n",
    "                        cv=5, scoring=\"neg_mean_absolute_error\")\n",
    "m_score = np.abs(score.mean())  # 절대값\n",
    "pro_time = time.time() - now_time\n",
    "print(pro_time)  # 걸린 시간\n",
    "print(\"LightGBM Score : {}\".format(m_score))  # 점수"
   ]
  },
  {
   "cell_type": "code",
   "execution_count": 275,
   "metadata": {},
   "outputs": [
    {
     "data": {
      "text/plain": [
       "array([6.48065241, 6.47165151, 6.47596962, 6.46652958, 6.48953915,\n",
       "       6.50162228, 6.38319963, 6.41361616, 7.10527869, 7.09466346])"
      ]
     },
     "execution_count": 275,
     "metadata": {},
     "output_type": "execute_result"
    }
   ],
   "source": [
    "model_last = lgb.LGBMRegressor(n_estimators = 1000,\n",
    "                                 random_state=0, n_jobs=-1)\n",
    "model_last.fit(X_train, y_train)\n",
    "pred = model_last.predict(test_X)\n",
    "pred[0:10]"
   ]
  },
  {
   "cell_type": "code",
   "execution_count": 1,
   "metadata": {},
   "outputs": [
    {
     "ename": "NameError",
     "evalue": "name 'test_new' is not defined",
     "output_type": "error",
     "traceback": [
      "\u001b[1;31m---------------------------------------------------------------------------\u001b[0m",
      "\u001b[1;31mNameError\u001b[0m                                 Traceback (most recent call last)",
      "\u001b[1;32m<ipython-input-1-ce48f471b66f>\u001b[0m in \u001b[0;36m<module>\u001b[1;34m\u001b[0m\n\u001b[1;32m----> 1\u001b[1;33m \u001b[0msub_df\u001b[0m \u001b[1;33m=\u001b[0m \u001b[0mtest_new\u001b[0m\u001b[1;33m[\u001b[0m \u001b[1;33m[\u001b[0m\u001b[1;34m'단지코드'\u001b[0m\u001b[1;33m,\u001b[0m \u001b[1;34m'단지별차량수평균'\u001b[0m\u001b[1;33m]\u001b[0m\u001b[1;33m]\u001b[0m\u001b[1;33m\u001b[0m\u001b[1;33m\u001b[0m\u001b[0m\n\u001b[0m\u001b[0;32m      2\u001b[0m \u001b[0msub_df\u001b[0m\u001b[1;33m.\u001b[0m\u001b[0mcolumns\u001b[0m \u001b[1;33m=\u001b[0m \u001b[1;33m[\u001b[0m\u001b[1;34m'code'\u001b[0m\u001b[1;33m,\u001b[0m \u001b[1;34m'num'\u001b[0m\u001b[1;33m]\u001b[0m\u001b[1;33m\u001b[0m\u001b[1;33m\u001b[0m\u001b[0m\n\u001b[0;32m      3\u001b[0m \u001b[0msub_df\u001b[0m\u001b[1;33m\u001b[0m\u001b[1;33m\u001b[0m\u001b[0m\n",
      "\u001b[1;31mNameError\u001b[0m: name 'test_new' is not defined"
     ]
    }
   ],
   "source": [
    "sub_df = test_new[ ['단지코드', '단지별차량수평균']]\n",
    "sub_df.columns = ['code', 'num']\n",
    "sub_df"
   ]
  },
  {
   "cell_type": "code",
   "execution_count": null,
   "metadata": {},
   "outputs": [],
   "source": [
    "sub_df.to_csv('lgb2_0721.csv', index=False)\n",
    "sub_df.head()"
   ]
  }
 ],
 "metadata": {
  "kernelspec": {
   "display_name": "Python 3",
   "language": "python",
   "name": "python3"
  },
  "language_info": {
   "codemirror_mode": {
    "name": "ipython",
    "version": 3
   },
   "file_extension": ".py",
   "mimetype": "text/x-python",
   "name": "python",
   "nbconvert_exporter": "python",
   "pygments_lexer": "ipython3",
   "version": "3.7.3"
  }
 },
 "nbformat": 4,
 "nbformat_minor": 4
}
