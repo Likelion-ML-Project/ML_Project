{
 "cells": [
  {
   "cell_type": "markdown",
   "metadata": {},
   "source": [
    "### 임대료 및 임대보증금 결측치 처리"
   ]
  },
  {
   "cell_type": "code",
   "execution_count": 1,
   "metadata": {},
   "outputs": [],
   "source": [
    "import pandas as pd"
   ]
  },
  {
   "cell_type": "code",
   "execution_count": 2,
   "metadata": {},
   "outputs": [
    {
     "data": {
      "text/plain": [
       "((2896, 23), (1008, 21))"
      ]
     },
     "execution_count": 2,
     "metadata": {},
     "output_type": "execute_result"
    }
   ],
   "source": [
    "train = pd.read_csv('./Data/train_df_errno2.csv')\n",
    "test = pd.read_csv('./Data/test_df2.csv')\n",
    "\n",
    "train.shape, test.shape"
   ]
  },
  {
   "cell_type": "code",
   "execution_count": 3,
   "metadata": {
    "scrolled": true
   },
   "outputs": [
    {
     "data": {
      "text/plain": [
       "단지코드            0\n",
       "총세대수            0\n",
       "임대건물구분          0\n",
       "지역              0\n",
       "공급유형            0\n",
       "전용면적            0\n",
       "전용면적별세대수        0\n",
       "공가수             0\n",
       "자격유형            0\n",
       "임대보증금         569\n",
       "임대료           569\n",
       "10분내지하철수        0\n",
       "10분내버스정류장수      0\n",
       "단지내주차면수         0\n",
       "단지코드_Type       0\n",
       "임대건물구분_lbl      0\n",
       "지역_lbl          0\n",
       "공급유형_lbl        0\n",
       "자격유형_lbl        0\n",
       "단지코드_lbl        0\n",
       "qcut_총세대수       0\n",
       "등록차량수           0\n",
       "log_등록차량수       0\n",
       "dtype: int64"
      ]
     },
     "execution_count": 3,
     "metadata": {},
     "output_type": "execute_result"
    }
   ],
   "source": [
    "train.isnull().sum()"
   ]
  },
  {
   "cell_type": "code",
   "execution_count": 4,
   "metadata": {
    "scrolled": true
   },
   "outputs": [
    {
     "data": {
      "text/plain": [
       "단지코드            0\n",
       "총세대수            0\n",
       "임대건물구분          0\n",
       "지역              0\n",
       "공급유형            0\n",
       "전용면적            0\n",
       "전용면적별세대수        0\n",
       "공가수             0\n",
       "자격유형            0\n",
       "임대보증금         180\n",
       "임대료           180\n",
       "10분내지하철수        0\n",
       "10분내버스정류장수      0\n",
       "단지내주차면수         0\n",
       "단지코드_Type       0\n",
       "임대건물구분_lbl      0\n",
       "지역_lbl          0\n",
       "공급유형_lbl        0\n",
       "자격유형_lbl        0\n",
       "단지코드_lbl        0\n",
       "qcut_총세대수       0\n",
       "dtype: int64"
      ]
     },
     "execution_count": 4,
     "metadata": {},
     "output_type": "execute_result"
    }
   ],
   "source": [
    "test.isnull().sum()"
   ]
  },
  {
   "cell_type": "code",
   "execution_count": 5,
   "metadata": {},
   "outputs": [
    {
     "data": {
      "text/plain": [
       "단지코드            0\n",
       "총세대수            0\n",
       "임대건물구분          0\n",
       "지역              0\n",
       "공급유형            0\n",
       "전용면적            0\n",
       "전용면적별세대수        0\n",
       "공가수             0\n",
       "자격유형            0\n",
       "임대보증금         749\n",
       "임대료           749\n",
       "10분내지하철수        0\n",
       "10분내버스정류장수      0\n",
       "단지내주차면수         0\n",
       "단지코드_Type       0\n",
       "임대건물구분_lbl      0\n",
       "지역_lbl          0\n",
       "공급유형_lbl        0\n",
       "자격유형_lbl        0\n",
       "단지코드_lbl        0\n",
       "qcut_총세대수       0\n",
       "dtype: int64"
      ]
     },
     "execution_count": 5,
     "metadata": {},
     "output_type": "execute_result"
    }
   ],
   "source": [
    "all_df = pd.concat([train, test], join='inner', ignore_index=True)\n",
    "all_df.isnull().sum()"
   ]
  },
  {
   "cell_type": "code",
   "execution_count": 6,
   "metadata": {},
   "outputs": [],
   "source": [
    "all_df.loc[all_df['임대보증금'].isna(), '임대보증금'] = 0\n",
    "all_df.loc[all_df['임대보증금'] == '-', '임대보증금'] = 0\n",
    "all_df['임대보증금'] = all_df['임대보증금'].astype(float)\n",
    "\n",
    "\n",
    "all_df.loc[all_df['임대료'].isna(), '임대료'] = 0\n",
    "all_df.loc[all_df['임대료'] == '-', '임대료'] = 0\n",
    "all_df['임대료'] = all_df['임대료'].astype(float)"
   ]
  },
  {
   "cell_type": "code",
   "execution_count": 7,
   "metadata": {},
   "outputs": [
    {
     "data": {
      "text/plain": [
       "단지코드          0\n",
       "총세대수          0\n",
       "임대건물구분        0\n",
       "지역            0\n",
       "공급유형          0\n",
       "전용면적          0\n",
       "전용면적별세대수      0\n",
       "공가수           0\n",
       "자격유형          0\n",
       "임대보증금         0\n",
       "임대료           0\n",
       "10분내지하철수      0\n",
       "10분내버스정류장수    0\n",
       "단지내주차면수       0\n",
       "단지코드_Type     0\n",
       "임대건물구분_lbl    0\n",
       "지역_lbl        0\n",
       "공급유형_lbl      0\n",
       "자격유형_lbl      0\n",
       "단지코드_lbl      0\n",
       "qcut_총세대수     0\n",
       "dtype: int64"
      ]
     },
     "execution_count": 7,
     "metadata": {},
     "output_type": "execute_result"
    }
   ],
   "source": [
    "all_df.isna().sum()"
   ]
  },
  {
   "cell_type": "code",
   "execution_count": 8,
   "metadata": {},
   "outputs": [
    {
     "data": {
      "text/plain": [
       "((2896, 21), (1008, 21))"
      ]
     },
     "execution_count": 8,
     "metadata": {},
     "output_type": "execute_result"
    }
   ],
   "source": [
    "train_df = all_df.iloc[0:2896,:]\n",
    "test_df = all_df.iloc[2896:,:]\n",
    "\n",
    "train_df.shape, test_df.shape"
   ]
  },
  {
   "cell_type": "code",
   "execution_count": 9,
   "metadata": {},
   "outputs": [
    {
     "data": {
      "text/plain": [
       "(2896, 23)"
      ]
     },
     "execution_count": 9,
     "metadata": {},
     "output_type": "execute_result"
    }
   ],
   "source": [
    "train_df = pd.concat([train_df, train[['등록차량수', 'log_등록차량수']]], axis=1)\n",
    "train_df.shape"
   ]
  },
  {
   "cell_type": "markdown",
   "metadata": {},
   "source": [
    "### 임대보증금 결측치 처리 후 최종 파일 출력"
   ]
  },
  {
   "cell_type": "code",
   "execution_count": 10,
   "metadata": {},
   "outputs": [],
   "source": [
    "train_df.to_csv(\"./data/train_df_errno_final.csv\", index=False)\n",
    "test_df.to_csv(\"./data/test_df_final.csv\", index=False)"
   ]
  }
 ],
 "metadata": {
  "kernelspec": {
   "display_name": "Python 3",
   "language": "python",
   "name": "python3"
  },
  "language_info": {
   "codemirror_mode": {
    "name": "ipython",
    "version": 3
   },
   "file_extension": ".py",
   "mimetype": "text/x-python",
   "name": "python",
   "nbconvert_exporter": "python",
   "pygments_lexer": "ipython3",
   "version": "3.7.3"
  }
 },
 "nbformat": 4,
 "nbformat_minor": 2
}
